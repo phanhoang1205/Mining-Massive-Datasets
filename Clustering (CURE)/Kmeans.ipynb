{
  "nbformat": 4,
  "nbformat_minor": 0,
  "metadata": {
    "colab": {
      "provenance": []
    },
    "kernelspec": {
      "name": "python3",
      "display_name": "Python 3"
    },
    "language_info": {
      "name": "python"
    }
  },
  "cells": [
    {
      "cell_type": "code",
      "execution_count": 1,
      "metadata": {
        "id": "kpWGUFzVGqu_"
      },
      "outputs": [],
      "source": [
        "!apt-get install openjdk-8-jdk-headless -qq > /dev/null\n",
        "!wget -q https://archive.apache.org/dist/spark/spark-3.4.1/spark-3.4.1-bin-hadoop3.tgz\n",
        "!tar xf spark-3.4.1-bin-hadoop3.tgz\n",
        "!pip install -q findspark"
      ]
    },
    {
      "cell_type": "code",
      "source": [
        "import os\n",
        "os.environ[\"JAVA_HOME\"] = \"/usr/lib/jvm/java-8-openjdk-amd64\"\n",
        "os.environ[\"SPARK_HOME\"] = \"/content/spark-3.4.1-bin-hadoop3\""
      ],
      "metadata": {
        "id": "N11O42yvGuAs"
      },
      "execution_count": 2,
      "outputs": []
    },
    {
      "cell_type": "code",
      "source": [
        "import findspark\n",
        "findspark.init()"
      ],
      "metadata": {
        "id": "huf3UXzWGv_n"
      },
      "execution_count": 3,
      "outputs": []
    },
    {
      "cell_type": "code",
      "source": [
        "from pyspark.sql import SparkSession\n",
        "from pyspark.sql.window import Window\n",
        "from pyspark.ml.feature import VectorAssembler\n",
        "from pyspark.sql.types import ArrayType, DoubleType\n",
        "from pyspark.sql.functions import lag, col, expr, collect_list, udf, lit, when, avg, row_number\n",
        "from pyspark.ml.clustering import KMeans\n",
        "\n",
        "import numpy as np\n",
        "import matplotlib.pyplot as plt"
      ],
      "metadata": {
        "id": "dluD2R83Gxrp"
      },
      "execution_count": 14,
      "outputs": []
    },
    {
      "cell_type": "code",
      "source": [
        "class KMeansClustering:\n",
        "    def __init__(self,\n",
        "                 data_path,\n",
        "                 k=10,\n",
        "                 weightIds = [0, 1, 2, 3, 4, 7, 8, 11, 18, 61],\n",
        "                 weightVal = 100):\n",
        "\n",
        "        self.spark = SparkSession.builder \\\n",
        "                                  .appName(\"Clustering\") \\\n",
        "                                  .getOrCreate()\n",
        "\n",
        "        self.data_path = data_path\n",
        "        self.weightIds = weightIds\n",
        "        self.weightVal = weightVal\n",
        "        self.k = k\n",
        "\n",
        "        self.model = None\n",
        "        self.data = None\n",
        "        self.cluster_centers = None\n",
        "        self.avg_distances = None\n",
        "\n",
        "\n",
        "    def load_data(self):\n",
        "        data = self.spark.read.csv(self.data_path,\n",
        "                                   header=False,\n",
        "                                   inferSchema=True)\n",
        "\n",
        "        assembler = VectorAssembler(inputCols=data.columns[1:],\n",
        "                                    outputCol=\"features\")\n",
        "\n",
        "        data = assembler.transform(data)\n",
        "        self.data = data.withColumnRenamed(data.columns[0], \"label\") \\\n",
        "                        .select(\"label\", \"features\")\n",
        "\n",
        "    def assign_weights(self):\n",
        "        weightVal = self.weightVal\n",
        "        window = Window.orderBy(lit(1))\n",
        "        weighted_data = self.data.withColumn(\"row_id\", row_number().over(window) - 1)\n",
        "\n",
        "        weighted_data = weighted_data.withColumn(\"weight\", lit(1))\n",
        "        for row_index in self.weightIds:\n",
        "            weighted_data = weighted_data.withColumn(\"weight\",\n",
        "                when(weighted_data[\"row_id\"] == row_index, lit(weightVal)) \\\n",
        "                .otherwise(weighted_data[\"weight\"]))\n",
        "\n",
        "        self.data = weighted_data.drop(\"row_id\")\n",
        "\n",
        "    def kmeans_clustering(self):\n",
        "        k = self.k\n",
        "        kmeans = KMeans(k=k, weightCol=\"weight\", seed = 1)\n",
        "        model = kmeans.fit(self.data)\n",
        "        self.cluster_centers = model.clusterCenters()\n",
        "        return model\n",
        "\n",
        "    def compute_average_distances(self, model):\n",
        "        predictions = model.transform(self.data)\n",
        "\n",
        "        # Collect cluster centers to the driver\n",
        "        cluster_centers = self.cluster_centers\n",
        "\n",
        "        def euclidean_distance(point, center):\n",
        "            return float(np.linalg.norm(point - center))\n",
        "\n",
        "        # Create a UDF for distance calculation\n",
        "        distance_udf = udf(lambda point, center:\n",
        "                           euclidean_distance(point, cluster_centers[center]),\n",
        "                           DoubleType())\n",
        "\n",
        "        # Compute distances\n",
        "        distances = predictions.withColumn(\"distance\",\n",
        "                                           distance_udf(\"features\", \"prediction\"))\n",
        "\n",
        "        # Compute average distances per cluster\n",
        "        average_distances = distances.groupBy(\"prediction\") \\\n",
        "                                      .agg(avg(\"distance\").alias(\"avg_distance\"))\n",
        "        return average_distances\n",
        "\n",
        "    def plot_distances(self):\n",
        "        \"\"\"\n",
        "        Because we only have 10 labels\n",
        "        The largest number of prediction is 10\n",
        "        length of average distances to centroid is 10\n",
        "          => can use toPandas without checking\n",
        "        \"\"\"\n",
        "        average_distances_pd = self.avg_distances.toPandas()\n",
        "\n",
        "        average_distances_pd = average_distances_pd.sort_values(by='prediction')\n",
        "        average_distances_pd.plot(kind='bar',\n",
        "                                  x='prediction',\n",
        "                                  y='avg_distance',\n",
        "                                  legend=False)\n",
        "\n",
        "        plt.ylabel('Average Distance to Centroid')\n",
        "        plt.xlabel('Cluster')\n",
        "        plt.title('Average Distance to Centroid for Each Cluster')\n",
        "        plt.show()\n",
        "\n",
        "    def run(self):\n",
        "        self.load_data()\n",
        "        self.assign_weights()\n",
        "        self.model = self.kmeans_clustering()\n",
        "        self.avg_distances = self.compute_average_distances(self.model)\n",
        "        self.avg_distances.show()\n",
        "\n",
        "if __name__ == \"__main__\":\n",
        "    path = \"mnist_mini.csv\"\n",
        "    kmeans = KMeansClustering(path)\n",
        "    kmeans.run()\n",
        "    kmeans.plot_distances()\n"
      ],
      "metadata": {
        "colab": {
          "base_uri": "https://localhost:8080/",
          "height": 727
        },
        "id": "QOfcw6XZsPEc",
        "outputId": "302a2ba1-65a8-4851-b422-db7c8ef6e1d6"
      },
      "execution_count": 15,
      "outputs": [
        {
          "output_type": "stream",
          "name": "stdout",
          "text": [
            "+----------+------------------+\n",
            "|prediction|      avg_distance|\n",
            "+----------+------------------+\n",
            "|         1| 1775.898088395144|\n",
            "|         6|1793.3943233106804|\n",
            "|         3|1689.1893064051264|\n",
            "|         5|1674.5108219425827|\n",
            "|         9| 1594.607741287667|\n",
            "|         4| 1308.124994122389|\n",
            "|         8|1525.7572806679095|\n",
            "|         7| 1669.524000443875|\n",
            "|         2|1712.1066103626426|\n",
            "|         0|1462.3271595981425|\n",
            "+----------+------------------+\n",
            "\n"
          ]
        },
        {
          "output_type": "display_data",
          "data": {
            "text/plain": [
              "<Figure size 640x480 with 1 Axes>"
            ],
            "image/png": "[encoded data removed]"
          },
          "metadata": {}
        }
      ]
    },
    {
      "cell_type": "code",
      "source": [],
      "metadata": {
        "id": "LPA2OWemHniR"
      },
      "execution_count": null,
      "outputs": []
    }
  ]
}